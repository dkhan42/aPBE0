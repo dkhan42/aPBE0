{
 "cells": [
  {
   "cell_type": "code",
   "execution_count": null,
   "metadata": {},
   "outputs": [],
   "source": [
    "'''\n",
    "Usage example for obtaining predictions\n",
    "Predictions are made using the pre-trained model on 200 molecules from W4-17 dataset\n",
    "'''\n",
    "\n",
    "from ase_wrapper import return_prediction\n",
    "xyz_file = 'mol.xyz' # Path to the molecule\n",
    "aopt = return_prediction(xyz_file) #Predtiction of aopt for the molecule"
   ]
  },
  {
   "cell_type": "code",
   "execution_count": null,
   "metadata": {},
   "outputs": [],
   "source": [
    "'''\n",
    "Training example\n",
    "'''\n",
    "import numpy as np\n",
    "from ase.io import read\n",
    "from cMBDF import generate_mbdf, get_convolutions\n",
    "from KernelRidge import GridSearchCV_local\n",
    "from qml import kernels\n",
    "from scipy.linalg import cho_solve\n",
    "\n",
    "#generate convolutions for cMBDF, rcut controls local cutoff radius around each atom in Angstrom\n",
    "convs = get_convolutions(rcut = 6.0) \n",
    "\n",
    "# List of training molecules\n",
    "xyz_files = ['mol1.xyz', 'mol2.xyz', 'mol3.xyz'] \n",
    "# List of training labels\n",
    "ytrain  = [0.16,0.23,0.45]\n",
    "#List of charges and multiplicities\n",
    "charges, multiplicities = [0,0,1], [1,1,2] \n",
    "\n",
    "coords, atomic_numbers = [], []\n",
    "for i in range(len(xyz_files)):\n",
    "    mol = read(xyz_files[i])\n",
    "    coords.append(mol.get_positions())\n",
    "    atomic_numbers.append(mol.get_atomic_numbers())\n",
    "\n",
    "#array containing number of electrons in each molecule\n",
    "num_elecs = np.array([sum(arr) for arr in atomic_numbers])\n",
    "num_elecs-=charges \n",
    "\n",
    "#generate cmbdf molecular features\n",
    "xtrain = generate_mbdf(np.array([charges]),np.array([coords]),convs,n_atm=2.0,)\n",
    "#xtrain is a 2D array of shape (n_molecules, n_features)\n",
    "\n",
    "param_grid={'lambda':[1e-3,1e-6,1e-9,1e-10],
            'length':[10**i for i in range(-2,4)]}",
    "\n",
    "#Optimize Kernel Ridge Regression hyperparameters\n",
    "best_params = GridSearchCV_local(xtrain, atomic_numbers, param_grid, ytrain*num_elecs,)\n",
    "sigma,lam = best_params['length'], best_params['lambda']\n",
    "\n",
    "\n",
    "#Train Kernel Ridge Regression model\n",
    "K = kernels.get_local_symmetric_kernel(xtrain,atomic_numbers,[sigma])\n",
    "K+=(np.eye(K.shape[0])*lam)\n",
    "L=np.linalg.cholesky(K)\n",
    "alpha=cho_solve((L,True),ytrain*num_elecs)\n",
    "np.savez_compressed('model.npz', alpha = alpha, xtrain = xtrain,\n",
    "                    sigma = sigma, L = L)\n",
    "#Trained model can then be used to make predictions like in the previous cell"
   ]
  }
 ],
 "metadata": {
  "kernelspec": {
   "display_name": "base",
   "language": "python",
   "name": "python3"
  },
  "language_info": {
   "name": "python",
   "version": "3.12.8"
  }
 },
 "nbformat": 4,
 "nbformat_minor": 2
}
